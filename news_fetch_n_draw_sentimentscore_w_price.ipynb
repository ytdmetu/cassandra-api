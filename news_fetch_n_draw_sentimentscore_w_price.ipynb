{
  "nbformat": 4,
  "nbformat_minor": 0,
  "metadata": {
    "colab": {
      "provenance": []
    },
    "kernelspec": {
      "name": "python3",
      "display_name": "Python 3"
    },
    "language_info": {
      "name": "python"
    }
  },
  "cells": [
    {
      "cell_type": "code",
      "source": [
        "!pip install transformers\n",
        "!pip install yfinance\n",
        "!pip install plotly"
      ],
      "metadata": {
        "id": "ki1qF-xToHn-"
      },
      "execution_count": null,
      "outputs": []
    },
    {
      "cell_type": "code",
      "source": [
        "import requests\n",
        "from transformers import AutoTokenizer, AutoModelForSequenceClassification, pipeline\n",
        "import datetime\n",
        "import yfinance as yf\n",
        "import pandas as pd\n",
        "import pytz\n",
        "import plotly.graph_objects as go"
      ],
      "metadata": {
        "id": "QJlaZk78oC9I"
      },
      "execution_count": 180,
      "outputs": []
    },
    {
      "cell_type": "code",
      "source": [
        "API_TOKEN = <API_TOKEN>"
      ],
      "metadata": {
        "id": "Vjx6OuqmD67D"
      },
      "execution_count": 194,
      "outputs": []
    },
    {
      "cell_type": "code",
      "source": [
        "tokenizer = AutoTokenizer.from_pretrained(\"mrm8488/distilroberta-finetuned-financial-news-sentiment-analysis\")\n",
        "model = AutoModelForSequenceClassification.from_pretrained(\"mrm8488/distilroberta-finetuned-financial-news-sentiment-analysis\")\n",
        "classifier = pipeline(\"sentiment-analysis\", model=model, tokenizer=tokenizer)\n",
        "\n",
        "def fetch_prive_n_news(stock_id, start_date, end_date):\n",
        "  raw_df =  (\n",
        "        yf.Ticker(stock_id)\n",
        "        .history(start=start_date, end=end_date, interval='1h')\n",
        "        .tz_convert(datetime.timezone.utc)\n",
        "    )\n",
        "  raw_df['timestamp'] = raw_df.index.astype('int64') // 10**9\n",
        "  output = pd.DataFrame(requests.get(f'https://finnhub.io/api/v1/company-news?symbol=TSLA&from={start_date}&to={end_date}&token={API_TOKEN}').json())\n",
        "  output['datetime'] = output['datetime'].apply(lambda x: datetime.datetime.fromtimestamp(x))\n",
        "  output['sentiment'] = output['summary'].apply(lambda x: classifier(x))\n",
        "  output['sentiment_group'] = output['sentiment'].apply(lambda x: x[0]['label'])\n",
        "  output['sentiment_score'] = output['sentiment'].apply(lambda x: x[0]['score'])\n",
        "  # Bir sonraki 30 gecedeki degeri bizim icin onemli. (ornegin 8.45teki haberin etkisini saatlik bir sekilde her 30 gece akan datada 9.30da gormeyi bekleriz)\n",
        "  output['datetime_group'] = output['datetime'].apply(lambda x:x.replace(minute=0, second=0, microsecond=0) + datetime.timedelta(hours=1, minutes=30))\n",
        "  output['datetime_group'] = output['datetime_group'].apply(lambda x:datetime.datetime.timestamp(x))\n",
        "  sentiment_results = output.groupby(['datetime_group','sentiment_group'])['category'].agg('count').reset_index()\n",
        "  df_dict = dict(zip(sentiment_results['datetime_group'], sentiment_results['sentiment_group'].apply(lambda x: -1 if x == 'negative' else 1 if x == 'positive' else 0) * sentiment_results['category']))\n",
        "  raw_df = raw_df.merge(pd.DataFrame.from_dict(df_dict, orient='index', columns=['sentiment_score']), left_on='timestamp', right_index=True, how='left').fillna(0) \n",
        "  # Draw a price Chart and draw a second y axis for sentiment score\n",
        "  fig = go.Figure()\n",
        "  fig.add_trace(go.Scatter(x=raw_df.index, y=raw_df['Close'], name='Price'))\n",
        "  fig.add_trace(go.Bar(x=raw_df.index, y=raw_df['sentiment_score'], name='Sentiment Score', yaxis='y2', opacity=0.5))\n",
        "  fig.update_layout(yaxis2=dict(overlaying='y', side='right'))\n",
        "  fig.show()\n",
        "  return raw_df"
      ],
      "metadata": {
        "id": "frj8iYNOz4nA"
      },
      "execution_count": 195,
      "outputs": []
    },
    {
      "cell_type": "code",
      "source": [
        "raw_df = fetch_prive_n_news('AAPL', '2022-11-27', '2022-12-04')"
      ],
      "metadata": {
        "colab": {
          "base_uri": "https://localhost:8080/",
          "height": 611
        },
        "id": "xK7hwVS-g-nL",
        "outputId": "25916a17-f7ef-40bc-c430-14d1ff11fdb7"
      },
      "execution_count": 196,
      "outputs": [
        {
          "output_type": "stream",
          "name": "stderr",
          "text": [
            "<ipython-input-195-271129723669>:11: FutureWarning:\n",
            "\n",
            "casting datetime64[ns, UTC] values to int64 with .astype(...) is deprecated and will raise in a future version. Use .view(...) instead.\n",
            "\n"
          ]
        },
        {
          "output_type": "display_data",
          "data": {
            "text/html": [
              "<html>\n",
              "<head><meta charset=\"utf-8\" /></head>\n",
              "<body>\n",
              "    <div>            <script src=\"https://cdnjs.cloudflare.com/ajax/libs/mathjax/2.7.5/MathJax.js?config=TeX-AMS-MML_SVG\"></script><script type=\"text/javascript\">if (window.MathJax) {MathJax.Hub.Config({SVG: {font: \"STIX-Web\"}});}</script>                <script type=\"text/javascript\">window.PlotlyConfig = {MathJaxConfig: 'local'};</script>\n",
              "        <script src=\"https://cdn.plot.ly/plotly-2.8.3.min.js\"></script>                <div id=\"3b8931b4-3d05-4e93-8445-743e5436ed3e\" class=\"plotly-graph-div\" style=\"height:525px; width:100%;\"></div>            <script type=\"text/javascript\">                                    window.PLOTLYENV=window.PLOTLYENV || {};                                    if (document.getElementById(\"3b8931b4-3d05-4e93-8445-743e5436ed3e\")) {                    Plotly.newPlot(                        \"3b8931b4-3d05-4e93-8445-743e5436ed3e\",                        [{\"name\":\"Price\",\"x\":[\"2022-11-28T14:30:00+00:00\",\"2022-11-28T15:30:00+00:00\",\"2022-11-28T16:30:00+00:00\",\"2022-11-28T17:30:00+00:00\",\"2022-11-28T18:30:00+00:00\",\"2022-11-28T19:30:00+00:00\",\"2022-11-28T20:30:00+00:00\",\"2022-11-29T14:30:00+00:00\",\"2022-11-29T15:30:00+00:00\",\"2022-11-29T16:30:00+00:00\",\"2022-11-29T17:30:00+00:00\",\"2022-11-29T18:30:00+00:00\",\"2022-11-29T19:30:00+00:00\",\"2022-11-29T20:30:00+00:00\",\"2022-11-30T14:30:00+00:00\",\"2022-11-30T15:30:00+00:00\",\"2022-11-30T16:30:00+00:00\",\"2022-11-30T17:30:00+00:00\",\"2022-11-30T18:30:00+00:00\",\"2022-11-30T19:30:00+00:00\",\"2022-11-30T20:30:00+00:00\",\"2022-12-01T14:30:00+00:00\",\"2022-12-01T15:30:00+00:00\",\"2022-12-01T16:30:00+00:00\",\"2022-12-01T17:30:00+00:00\",\"2022-12-01T18:30:00+00:00\",\"2022-12-01T19:30:00+00:00\",\"2022-12-01T20:30:00+00:00\",\"2022-12-02T14:30:00+00:00\",\"2022-12-02T15:30:00+00:00\",\"2022-12-02T16:30:00+00:00\",\"2022-12-02T17:30:00+00:00\",\"2022-12-02T18:30:00+00:00\",\"2022-12-02T19:30:00+00:00\",\"2022-12-02T20:30:00+00:00\"],\"y\":[145.1300048828125,145.10000610351562,145.17999267578125,144.91700744628906,143.5399932861328,143.8000946044922,144.2100067138672,144.33990478515625,141.80999755859375,141.3800048828125,140.53500366210938,140.86000061035156,140.58999633789062,141.16000366210938,141.5,141.7899932861328,140.9199981689453,141.55999755859375,146.29429626464844,147.0800018310547,148.02999877929688,146.77999877929688,147.8300018310547,147.5449981689453,147.91879272460938,148.55999755859375,148.33999633789062,148.32000732421875,146.22999572753906,146.4600067138672,146.4499053955078,146.41000366210938,146.28500366210938,147.4407958984375,147.8000030517578],\"type\":\"scatter\"},{\"name\":\"Sentiment Score\",\"opacity\":0.5,\"x\":[\"2022-11-28T14:30:00+00:00\",\"2022-11-28T15:30:00+00:00\",\"2022-11-28T16:30:00+00:00\",\"2022-11-28T17:30:00+00:00\",\"2022-11-28T18:30:00+00:00\",\"2022-11-28T19:30:00+00:00\",\"2022-11-28T20:30:00+00:00\",\"2022-11-29T14:30:00+00:00\",\"2022-11-29T15:30:00+00:00\",\"2022-11-29T16:30:00+00:00\",\"2022-11-29T17:30:00+00:00\",\"2022-11-29T18:30:00+00:00\",\"2022-11-29T19:30:00+00:00\",\"2022-11-29T20:30:00+00:00\",\"2022-11-30T14:30:00+00:00\",\"2022-11-30T15:30:00+00:00\",\"2022-11-30T16:30:00+00:00\",\"2022-11-30T17:30:00+00:00\",\"2022-11-30T18:30:00+00:00\",\"2022-11-30T19:30:00+00:00\",\"2022-11-30T20:30:00+00:00\",\"2022-12-01T14:30:00+00:00\",\"2022-12-01T15:30:00+00:00\",\"2022-12-01T16:30:00+00:00\",\"2022-12-01T17:30:00+00:00\",\"2022-12-01T18:30:00+00:00\",\"2022-12-01T19:30:00+00:00\",\"2022-12-01T20:30:00+00:00\",\"2022-12-02T14:30:00+00:00\",\"2022-12-02T15:30:00+00:00\",\"2022-12-02T16:30:00+00:00\",\"2022-12-02T17:30:00+00:00\",\"2022-12-02T18:30:00+00:00\",\"2022-12-02T19:30:00+00:00\",\"2022-12-02T20:30:00+00:00\"],\"y\":[1.0,1.0,0.0,2.0,1.0,-1.0,0.0,0.0,1.0,-2.0,0.0,0.0,1.0,-1.0,2.0,1.0,0.0,1.0,-1.0,1.0,2.0,0.0,1.0,3.0,0.0,0.0,0.0,1.0,0.0,-3.0,0.0,0.0,0.0,1.0,1.0],\"yaxis\":\"y2\",\"type\":\"bar\"}],                        {\"template\":{\"data\":{\"bar\":[{\"error_x\":{\"color\":\"#2a3f5f\"},\"error_y\":{\"color\":\"#2a3f5f\"},\"marker\":{\"line\":{\"color\":\"#E5ECF6\",\"width\":0.5},\"pattern\":{\"fillmode\":\"overlay\",\"size\":10,\"solidity\":0.2}},\"type\":\"bar\"}],\"barpolar\":[{\"marker\":{\"line\":{\"color\":\"#E5ECF6\",\"width\":0.5},\"pattern\":{\"fillmode\":\"overlay\",\"size\":10,\"solidity\":0.2}},\"type\":\"barpolar\"}],\"carpet\":[{\"aaxis\":{\"endlinecolor\":\"#2a3f5f\",\"gridcolor\":\"white\",\"linecolor\":\"white\",\"minorgridcolor\":\"white\",\"startlinecolor\":\"#2a3f5f\"},\"baxis\":{\"endlinecolor\":\"#2a3f5f\",\"gridcolor\":\"white\",\"linecolor\":\"white\",\"minorgridcolor\":\"white\",\"startlinecolor\":\"#2a3f5f\"},\"type\":\"carpet\"}],\"choropleth\":[{\"colorbar\":{\"outlinewidth\":0,\"ticks\":\"\"},\"type\":\"choropleth\"}],\"contour\":[{\"colorbar\":{\"outlinewidth\":0,\"ticks\":\"\"},\"colorscale\":[[0.0,\"#0d0887\"],[0.1111111111111111,\"#46039f\"],[0.2222222222222222,\"#7201a8\"],[0.3333333333333333,\"#9c179e\"],[0.4444444444444444,\"#bd3786\"],[0.5555555555555556,\"#d8576b\"],[0.6666666666666666,\"#ed7953\"],[0.7777777777777778,\"#fb9f3a\"],[0.8888888888888888,\"#fdca26\"],[1.0,\"#f0f921\"]],\"type\":\"contour\"}],\"contourcarpet\":[{\"colorbar\":{\"outlinewidth\":0,\"ticks\":\"\"},\"type\":\"contourcarpet\"}],\"heatmap\":[{\"colorbar\":{\"outlinewidth\":0,\"ticks\":\"\"},\"colorscale\":[[0.0,\"#0d0887\"],[0.1111111111111111,\"#46039f\"],[0.2222222222222222,\"#7201a8\"],[0.3333333333333333,\"#9c179e\"],[0.4444444444444444,\"#bd3786\"],[0.5555555555555556,\"#d8576b\"],[0.6666666666666666,\"#ed7953\"],[0.7777777777777778,\"#fb9f3a\"],[0.8888888888888888,\"#fdca26\"],[1.0,\"#f0f921\"]],\"type\":\"heatmap\"}],\"heatmapgl\":[{\"colorbar\":{\"outlinewidth\":0,\"ticks\":\"\"},\"colorscale\":[[0.0,\"#0d0887\"],[0.1111111111111111,\"#46039f\"],[0.2222222222222222,\"#7201a8\"],[0.3333333333333333,\"#9c179e\"],[0.4444444444444444,\"#bd3786\"],[0.5555555555555556,\"#d8576b\"],[0.6666666666666666,\"#ed7953\"],[0.7777777777777778,\"#fb9f3a\"],[0.8888888888888888,\"#fdca26\"],[1.0,\"#f0f921\"]],\"type\":\"heatmapgl\"}],\"histogram\":[{\"marker\":{\"pattern\":{\"fillmode\":\"overlay\",\"size\":10,\"solidity\":0.2}},\"type\":\"histogram\"}],\"histogram2d\":[{\"colorbar\":{\"outlinewidth\":0,\"ticks\":\"\"},\"colorscale\":[[0.0,\"#0d0887\"],[0.1111111111111111,\"#46039f\"],[0.2222222222222222,\"#7201a8\"],[0.3333333333333333,\"#9c179e\"],[0.4444444444444444,\"#bd3786\"],[0.5555555555555556,\"#d8576b\"],[0.6666666666666666,\"#ed7953\"],[0.7777777777777778,\"#fb9f3a\"],[0.8888888888888888,\"#fdca26\"],[1.0,\"#f0f921\"]],\"type\":\"histogram2d\"}],\"histogram2dcontour\":[{\"colorbar\":{\"outlinewidth\":0,\"ticks\":\"\"},\"colorscale\":[[0.0,\"#0d0887\"],[0.1111111111111111,\"#46039f\"],[0.2222222222222222,\"#7201a8\"],[0.3333333333333333,\"#9c179e\"],[0.4444444444444444,\"#bd3786\"],[0.5555555555555556,\"#d8576b\"],[0.6666666666666666,\"#ed7953\"],[0.7777777777777778,\"#fb9f3a\"],[0.8888888888888888,\"#fdca26\"],[1.0,\"#f0f921\"]],\"type\":\"histogram2dcontour\"}],\"mesh3d\":[{\"colorbar\":{\"outlinewidth\":0,\"ticks\":\"\"},\"type\":\"mesh3d\"}],\"parcoords\":[{\"line\":{\"colorbar\":{\"outlinewidth\":0,\"ticks\":\"\"}},\"type\":\"parcoords\"}],\"pie\":[{\"automargin\":true,\"type\":\"pie\"}],\"scatter\":[{\"marker\":{\"colorbar\":{\"outlinewidth\":0,\"ticks\":\"\"}},\"type\":\"scatter\"}],\"scatter3d\":[{\"line\":{\"colorbar\":{\"outlinewidth\":0,\"ticks\":\"\"}},\"marker\":{\"colorbar\":{\"outlinewidth\":0,\"ticks\":\"\"}},\"type\":\"scatter3d\"}],\"scattercarpet\":[{\"marker\":{\"colorbar\":{\"outlinewidth\":0,\"ticks\":\"\"}},\"type\":\"scattercarpet\"}],\"scattergeo\":[{\"marker\":{\"colorbar\":{\"outlinewidth\":0,\"ticks\":\"\"}},\"type\":\"scattergeo\"}],\"scattergl\":[{\"marker\":{\"colorbar\":{\"outlinewidth\":0,\"ticks\":\"\"}},\"type\":\"scattergl\"}],\"scattermapbox\":[{\"marker\":{\"colorbar\":{\"outlinewidth\":0,\"ticks\":\"\"}},\"type\":\"scattermapbox\"}],\"scatterpolar\":[{\"marker\":{\"colorbar\":{\"outlinewidth\":0,\"ticks\":\"\"}},\"type\":\"scatterpolar\"}],\"scatterpolargl\":[{\"marker\":{\"colorbar\":{\"outlinewidth\":0,\"ticks\":\"\"}},\"type\":\"scatterpolargl\"}],\"scatterternary\":[{\"marker\":{\"colorbar\":{\"outlinewidth\":0,\"ticks\":\"\"}},\"type\":\"scatterternary\"}],\"surface\":[{\"colorbar\":{\"outlinewidth\":0,\"ticks\":\"\"},\"colorscale\":[[0.0,\"#0d0887\"],[0.1111111111111111,\"#46039f\"],[0.2222222222222222,\"#7201a8\"],[0.3333333333333333,\"#9c179e\"],[0.4444444444444444,\"#bd3786\"],[0.5555555555555556,\"#d8576b\"],[0.6666666666666666,\"#ed7953\"],[0.7777777777777778,\"#fb9f3a\"],[0.8888888888888888,\"#fdca26\"],[1.0,\"#f0f921\"]],\"type\":\"surface\"}],\"table\":[{\"cells\":{\"fill\":{\"color\":\"#EBF0F8\"},\"line\":{\"color\":\"white\"}},\"header\":{\"fill\":{\"color\":\"#C8D4E3\"},\"line\":{\"color\":\"white\"}},\"type\":\"table\"}]},\"layout\":{\"annotationdefaults\":{\"arrowcolor\":\"#2a3f5f\",\"arrowhead\":0,\"arrowwidth\":1},\"autotypenumbers\":\"strict\",\"coloraxis\":{\"colorbar\":{\"outlinewidth\":0,\"ticks\":\"\"}},\"colorscale\":{\"diverging\":[[0,\"#8e0152\"],[0.1,\"#c51b7d\"],[0.2,\"#de77ae\"],[0.3,\"#f1b6da\"],[0.4,\"#fde0ef\"],[0.5,\"#f7f7f7\"],[0.6,\"#e6f5d0\"],[0.7,\"#b8e186\"],[0.8,\"#7fbc41\"],[0.9,\"#4d9221\"],[1,\"#276419\"]],\"sequential\":[[0.0,\"#0d0887\"],[0.1111111111111111,\"#46039f\"],[0.2222222222222222,\"#7201a8\"],[0.3333333333333333,\"#9c179e\"],[0.4444444444444444,\"#bd3786\"],[0.5555555555555556,\"#d8576b\"],[0.6666666666666666,\"#ed7953\"],[0.7777777777777778,\"#fb9f3a\"],[0.8888888888888888,\"#fdca26\"],[1.0,\"#f0f921\"]],\"sequentialminus\":[[0.0,\"#0d0887\"],[0.1111111111111111,\"#46039f\"],[0.2222222222222222,\"#7201a8\"],[0.3333333333333333,\"#9c179e\"],[0.4444444444444444,\"#bd3786\"],[0.5555555555555556,\"#d8576b\"],[0.6666666666666666,\"#ed7953\"],[0.7777777777777778,\"#fb9f3a\"],[0.8888888888888888,\"#fdca26\"],[1.0,\"#f0f921\"]]},\"colorway\":[\"#636efa\",\"#EF553B\",\"#00cc96\",\"#ab63fa\",\"#FFA15A\",\"#19d3f3\",\"#FF6692\",\"#B6E880\",\"#FF97FF\",\"#FECB52\"],\"font\":{\"color\":\"#2a3f5f\"},\"geo\":{\"bgcolor\":\"white\",\"lakecolor\":\"white\",\"landcolor\":\"#E5ECF6\",\"showlakes\":true,\"showland\":true,\"subunitcolor\":\"white\"},\"hoverlabel\":{\"align\":\"left\"},\"hovermode\":\"closest\",\"mapbox\":{\"style\":\"light\"},\"paper_bgcolor\":\"white\",\"plot_bgcolor\":\"#E5ECF6\",\"polar\":{\"angularaxis\":{\"gridcolor\":\"white\",\"linecolor\":\"white\",\"ticks\":\"\"},\"bgcolor\":\"#E5ECF6\",\"radialaxis\":{\"gridcolor\":\"white\",\"linecolor\":\"white\",\"ticks\":\"\"}},\"scene\":{\"xaxis\":{\"backgroundcolor\":\"#E5ECF6\",\"gridcolor\":\"white\",\"gridwidth\":2,\"linecolor\":\"white\",\"showbackground\":true,\"ticks\":\"\",\"zerolinecolor\":\"white\"},\"yaxis\":{\"backgroundcolor\":\"#E5ECF6\",\"gridcolor\":\"white\",\"gridwidth\":2,\"linecolor\":\"white\",\"showbackground\":true,\"ticks\":\"\",\"zerolinecolor\":\"white\"},\"zaxis\":{\"backgroundcolor\":\"#E5ECF6\",\"gridcolor\":\"white\",\"gridwidth\":2,\"linecolor\":\"white\",\"showbackground\":true,\"ticks\":\"\",\"zerolinecolor\":\"white\"}},\"shapedefaults\":{\"line\":{\"color\":\"#2a3f5f\"}},\"ternary\":{\"aaxis\":{\"gridcolor\":\"white\",\"linecolor\":\"white\",\"ticks\":\"\"},\"baxis\":{\"gridcolor\":\"white\",\"linecolor\":\"white\",\"ticks\":\"\"},\"bgcolor\":\"#E5ECF6\",\"caxis\":{\"gridcolor\":\"white\",\"linecolor\":\"white\",\"ticks\":\"\"}},\"title\":{\"x\":0.05},\"xaxis\":{\"automargin\":true,\"gridcolor\":\"white\",\"linecolor\":\"white\",\"ticks\":\"\",\"title\":{\"standoff\":15},\"zerolinecolor\":\"white\",\"zerolinewidth\":2},\"yaxis\":{\"automargin\":true,\"gridcolor\":\"white\",\"linecolor\":\"white\",\"ticks\":\"\",\"title\":{\"standoff\":15},\"zerolinecolor\":\"white\",\"zerolinewidth\":2}}},\"yaxis2\":{\"overlaying\":\"y\",\"side\":\"right\"}},                        {\"responsive\": true}                    ).then(function(){\n",
              "                            \n",
              "var gd = document.getElementById('3b8931b4-3d05-4e93-8445-743e5436ed3e');\n",
              "var x = new MutationObserver(function (mutations, observer) {{\n",
              "        var display = window.getComputedStyle(gd).display;\n",
              "        if (!display || display === 'none') {{\n",
              "            console.log([gd, 'removed!']);\n",
              "            Plotly.purge(gd);\n",
              "            observer.disconnect();\n",
              "        }}\n",
              "}});\n",
              "\n",
              "// Listen for the removal of the full notebook cells\n",
              "var notebookContainer = gd.closest('#notebook-container');\n",
              "if (notebookContainer) {{\n",
              "    x.observe(notebookContainer, {childList: true});\n",
              "}}\n",
              "\n",
              "// Listen for the clearing of the current output cell\n",
              "var outputEl = gd.closest('.output');\n",
              "if (outputEl) {{\n",
              "    x.observe(outputEl, {childList: true});\n",
              "}}\n",
              "\n",
              "                        })                };                            </script>        </div>\n",
              "</body>\n",
              "</html>"
            ]
          },
          "metadata": {}
        }
      ]
    },
    {
      "cell_type": "code",
      "source": [],
      "metadata": {
        "id": "a1i5IGkLmk-8"
      },
      "execution_count": null,
      "outputs": []
    }
  ]
}